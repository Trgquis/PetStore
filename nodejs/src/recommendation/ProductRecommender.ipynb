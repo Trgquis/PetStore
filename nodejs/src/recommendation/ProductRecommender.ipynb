{
  "cells": [
    {
      "cell_type": "code",
      "execution_count": 27,
      "metadata": {
        "colab": {
          "base_uri": "https://localhost:8080/"
        },
        "id": "LqMkqoZOBxX8",
        "outputId": "372f8448-25b7-425a-e742-906c246bbe5d"
      },
      "outputs": [
        {
          "name": "stdout",
          "output_type": "stream",
          "text": [
            "   user_id  product_id  score  \\\n",
            "0        7           4      3   \n",
            "1       53          31      4   \n",
            "2       11          14      3   \n",
            "3       49          14      3   \n",
            "4        8           9      5   \n",
            "\n",
            "                                             comment  \\\n",
            "0  Chất lượng của sản phẩm vượt xa mong đợi của t...   \n",
            "1  Đó là một lựa chọn tuyệt vời cho thú cưng của ...   \n",
            "2  Sản phẩm này thực sự là một điều cần thiết cho...   \n",
            "3  Tôi đã giới thiệu sản phẩm này cho nhiều bạn b...   \n",
            "4  Tôi đã dành rất nhiều thời gian để tìm kiếm sả...   \n",
            "\n",
            "                    createdAt                  updatedAt       id  \n",
            "0  2024-01-02 05:42:48.983148  2024-05-01 03:19:13.79401  2113415  \n",
            "1  2024-03-17 11:32:27.075948  2024-05-01 03:19:13.79401  2113416  \n",
            "2  2024-02-24 04:17:19.933548  2024-05-01 03:19:13.79401  2113417  \n",
            "3  2024-02-10 05:12:59.725548  2024-05-01 03:19:13.79401  2113418  \n",
            "4  2024-02-15 01:31:12.656748  2024-05-01 03:19:13.79401  2113419  \n"
          ]
        }
      ],
      "source": [
        "import pandas as pd\n",
        "\n",
        "# Đường dẫn tới file CSV\n",
        "file_path = \"./reviews.csv\"\n",
        "\n",
        "# Đọc dữ liệu từ file CSV vào DataFrame\n",
        "df = pd.read_csv(file_path)\n",
        "\n",
        "# Hiển thị dữ liệu\n",
        "print(df.head())  # In ra 5 hàng đầu tiên của DataFrame\n"
      ]
    },
    {
      "cell_type": "code",
      "execution_count": 28,
      "metadata": {
        "colab": {
          "base_uri": "https://localhost:8080/",
          "height": 206
        },
        "id": "yHkNYlhpMOnb",
        "outputId": "f395b1a3-b5c2-49d0-8743-c1284f002254"
      },
      "outputs": [
        {
          "data": {
            "text/html": [
              "<div>\n",
              "<style scoped>\n",
              "    .dataframe tbody tr th:only-of-type {\n",
              "        vertical-align: middle;\n",
              "    }\n",
              "\n",
              "    .dataframe tbody tr th {\n",
              "        vertical-align: top;\n",
              "    }\n",
              "\n",
              "    .dataframe thead th {\n",
              "        text-align: right;\n",
              "    }\n",
              "</style>\n",
              "<table border=\"1\" class=\"dataframe\">\n",
              "  <thead>\n",
              "    <tr style=\"text-align: right;\">\n",
              "      <th></th>\n",
              "      <th>user_id</th>\n",
              "      <th>product_id</th>\n",
              "      <th>score</th>\n",
              "    </tr>\n",
              "  </thead>\n",
              "  <tbody>\n",
              "    <tr>\n",
              "      <th>0</th>\n",
              "      <td>7</td>\n",
              "      <td>4</td>\n",
              "      <td>3</td>\n",
              "    </tr>\n",
              "    <tr>\n",
              "      <th>1</th>\n",
              "      <td>53</td>\n",
              "      <td>31</td>\n",
              "      <td>4</td>\n",
              "    </tr>\n",
              "    <tr>\n",
              "      <th>2</th>\n",
              "      <td>11</td>\n",
              "      <td>14</td>\n",
              "      <td>3</td>\n",
              "    </tr>\n",
              "    <tr>\n",
              "      <th>3</th>\n",
              "      <td>49</td>\n",
              "      <td>14</td>\n",
              "      <td>3</td>\n",
              "    </tr>\n",
              "    <tr>\n",
              "      <th>4</th>\n",
              "      <td>8</td>\n",
              "      <td>9</td>\n",
              "      <td>5</td>\n",
              "    </tr>\n",
              "  </tbody>\n",
              "</table>\n",
              "</div>"
            ],
            "text/plain": [
              "   user_id  product_id  score\n",
              "0        7           4      3\n",
              "1       53          31      4\n",
              "2       11          14      3\n",
              "3       49          14      3\n",
              "4        8           9      5"
            ]
          },
          "execution_count": 28,
          "metadata": {},
          "output_type": "execute_result"
        }
      ],
      "source": [
        "df = df[['user_id', 'product_id', 'score']]\n",
        "df.head()"
      ]
    },
    {
      "cell_type": "code",
      "execution_count": 29,
      "metadata": {},
      "outputs": [
        {
          "name": "stdout",
          "output_type": "stream",
          "text": [
            "   user_id  product_id  score\n",
            "0        7           4      3\n",
            "1       53          31      4\n",
            "2       11          14      3\n",
            "3       49          14      3\n",
            "4        8           9      5\n"
          ]
        }
      ],
      "source": [
        "import numpy as np\n",
        "\n",
        "# Tạo dữ liệu giả mạo\n",
        "fake_user_ids = np.random.randint(64, 1064, size=1000)\n",
        "fake_product_ids = np.random.randint(108, 1108, size=1000)\n",
        "fake_scores = np.random.randint(3, 6, size=1000)\n",
        "\n",
        "# Tạo DataFrame mới từ dữ liệu giả mạo\n",
        "fake_data = pd.DataFrame({\n",
        "    'user_id': fake_user_ids,\n",
        "    'product_id': fake_product_ids,\n",
        "    'score': fake_scores\n",
        "})\n",
        "\n",
        "# Thêm dữ liệu giả vào DataFrame hiện tại\n",
        "df = pd.concat([df, fake_data], ignore_index=True)\n",
        "\n",
        "# In ra 5 dòng đầu tiên của DataFrame sau khi thêm dữ liệu giả\n",
        "print(df.head())\n"
      ]
    },
    {
      "cell_type": "code",
      "execution_count": 30,
      "metadata": {
        "id": "X5BA3gcebN4P"
      },
      "outputs": [],
      "source": [
        "import warnings\n",
        "warnings.filterwarnings('ignore')\n",
        "\n",
        "import numpy as np\n",
        "import pandas as pd\n",
        "\n",
        "import matplotlib.pyplot as plt\n",
        "import seaborn as sns\n",
        "\n",
        "from sklearn.metrics.pairwise import cosine_similarity\n",
        "\n",
        "\n",
        "from sklearn.metrics import mean_squared_error\n",
        "\n",
        "from scipy.sparse.linalg import svds # for sparse matrices"
      ]
    },
    {
      "cell_type": "code",
      "execution_count": 31,
      "metadata": {
        "colab": {
          "base_uri": "https://localhost:8080/"
        },
        "id": "C91MfSc4ro4A",
        "outputId": "95e5c984-5f8d-41fb-ff13-ec1621849d13"
      },
      "outputs": [
        {
          "name": "stdout",
          "output_type": "stream",
          "text": [
            "No of rows =  1139\n",
            "No of columns =  3\n"
          ]
        }
      ],
      "source": [
        "rows, columns = df.shape\n",
        "print(\"No of rows = \", rows)\n",
        "print(\"No of columns = \", columns)"
      ]
    },
    {
      "cell_type": "markdown",
      "metadata": {
        "id": "yL3uyzcCdpLr"
      },
      "source": [
        "Datatypes\n"
      ]
    },
    {
      "cell_type": "code",
      "execution_count": 32,
      "metadata": {
        "colab": {
          "base_uri": "https://localhost:8080/"
        },
        "id": "AWa6_Vmfrtug",
        "outputId": "38d6dddc-0480-479f-864e-b887d034dc74"
      },
      "outputs": [
        {
          "name": "stdout",
          "output_type": "stream",
          "text": [
            "<class 'pandas.core.frame.DataFrame'>\n",
            "RangeIndex: 1139 entries, 0 to 1138\n",
            "Data columns (total 3 columns):\n",
            " #   Column      Non-Null Count  Dtype\n",
            "---  ------      --------------  -----\n",
            " 0   user_id     1139 non-null   int64\n",
            " 1   product_id  1139 non-null   int64\n",
            " 2   score       1139 non-null   int64\n",
            "dtypes: int64(3)\n",
            "memory usage: 26.8 KB\n"
          ]
        }
      ],
      "source": [
        "df.info()"
      ]
    },
    {
      "cell_type": "code",
      "execution_count": 33,
      "metadata": {},
      "outputs": [
        {
          "data": {
            "text/plain": [
              "<bound method NDFrame.describe of       user_id  product_id  score\n",
              "0           7           4      3\n",
              "1          53          31      4\n",
              "2          11          14      3\n",
              "3          49          14      3\n",
              "4           8           9      5\n",
              "...       ...         ...    ...\n",
              "1134      856        1094      4\n",
              "1135      133         660      3\n",
              "1136      203         518      4\n",
              "1137      400         325      5\n",
              "1138      373         607      3\n",
              "\n",
              "[1139 rows x 3 columns]>"
            ]
          },
          "execution_count": 33,
          "metadata": {},
          "output_type": "execute_result"
        }
      ],
      "source": [
        "df.describe"
      ]
    },
    {
      "cell_type": "code",
      "execution_count": 34,
      "metadata": {
        "colab": {
          "base_uri": "https://localhost:8080/"
        },
        "id": "QfsZWrBV7ilC",
        "outputId": "427c7fb3-d706-406f-d990-81ba9e24106f"
      },
      "outputs": [
        {
          "data": {
            "text/plain": [
              "user_id       0\n",
              "product_id    0\n",
              "score         0\n",
              "dtype: int64"
            ]
          },
          "execution_count": 34,
          "metadata": {},
          "output_type": "execute_result"
        }
      ],
      "source": [
        "df.isna().sum()"
      ]
    },
    {
      "cell_type": "code",
      "execution_count": 35,
      "metadata": {
        "colab": {
          "base_uri": "https://localhost:8080/"
        },
        "id": "rCiCEsgBP-UG",
        "outputId": "7002812a-19d1-496a-d708-6ea331958115"
      },
      "outputs": [
        {
          "data": {
            "text/plain": [
              "count    1139.000000\n",
              "mean        4.055312\n",
              "std         0.814799\n",
              "min         3.000000\n",
              "25%         3.000000\n",
              "50%         4.000000\n",
              "75%         5.000000\n",
              "max         5.000000\n",
              "Name: score, dtype: float64"
            ]
          },
          "execution_count": 35,
          "metadata": {},
          "output_type": "execute_result"
        }
      ],
      "source": [
        "# Summary statistics of 'rating' variable\n",
        "df['score'].describe()"
      ]
    },
    {
      "cell_type": "code",
      "execution_count": 36,
      "metadata": {
        "colab": {
          "base_uri": "https://localhost:8080/",
          "height": 537
        },
        "id": "VxMQyZXyQQU2",
        "outputId": "f6ca444b-ae4c-4041-8e1b-6d7a4002c374"
      },
      "outputs": [
        {
          "data": {
            "image/png": "[encoded data removed]",
            "text/plain": [
              "<Figure size 1200x600 with 1 Axes>"
            ]
          },
          "metadata": {},
          "output_type": "display_data"
        }
      ],
      "source": [
        "#Create the plot and provide observations\n",
        "\n",
        "plt.figure(figsize = (12,6))\n",
        "df['score'].value_counts(1).plot(kind='bar')\n",
        "plt.show()"
      ]
    },
    {
      "cell_type": "code",
      "execution_count": 37,
      "metadata": {
        "colab": {
          "base_uri": "https://localhost:8080/"
        },
        "id": "FRz-ENT0QUhT",
        "outputId": "73a6b795-3fe0-456a-ff89-332302f81c61"
      },
      "outputs": [
        {
          "name": "stdout",
          "output_type": "stream",
          "text": [
            "Number of unique USERS in Raw data =  678\n",
            "Number of unique ITEMS in Raw data =  698\n"
          ]
        }
      ],
      "source": [
        "print('Number of unique USERS in Raw data = ', df['user_id'].nunique())\n",
        "print('Number of unique ITEMS in Raw data = ', df['product_id'].nunique())"
      ]
    },
    {
      "cell_type": "code",
      "execution_count": 38,
      "metadata": {
        "colab": {
          "base_uri": "https://localhost:8080/"
        },
        "id": "8AzSPLSwQqDc",
        "outputId": "807c9759-be8a-462b-c1a4-762a5bc437c5"
      },
      "outputs": [
        {
          "data": {
            "text/plain": [
              "user_id\n",
              "52      6\n",
              "815     6\n",
              "62      6\n",
              "32      6\n",
              "559     6\n",
              "63      5\n",
              "1008    5\n",
              "904     5\n",
              "886     5\n",
              "868     5\n",
              "dtype: int64"
            ]
          },
          "execution_count": 38,
          "metadata": {},
          "output_type": "execute_result"
        }
      ],
      "source": [
        "# Top 10 users based on rating\n",
        "most_rated = df.groupby('user_id').size().sort_values(ascending=False)[:10]\n",
        "most_rated\n"
      ]
    },
    {
      "cell_type": "code",
      "execution_count": 39,
      "metadata": {
        "colab": {
          "base_uri": "https://localhost:8080/",
          "height": 206
        },
        "id": "jZZd9TAKQwvj",
        "outputId": "0916b282-0705-451b-f567-21c8d08c531a"
      },
      "outputs": [
        {
          "data": {
            "text/html": [
              "<div>\n",
              "<style scoped>\n",
              "    .dataframe tbody tr th:only-of-type {\n",
              "        vertical-align: middle;\n",
              "    }\n",
              "\n",
              "    .dataframe tbody tr th {\n",
              "        vertical-align: top;\n",
              "    }\n",
              "\n",
              "    .dataframe thead th {\n",
              "        text-align: right;\n",
              "    }\n",
              "</style>\n",
              "<table border=\"1\" class=\"dataframe\">\n",
              "  <thead>\n",
              "    <tr style=\"text-align: right;\">\n",
              "      <th></th>\n",
              "      <th>user_id</th>\n",
              "      <th>product_id</th>\n",
              "      <th>score</th>\n",
              "    </tr>\n",
              "  </thead>\n",
              "  <tbody>\n",
              "    <tr>\n",
              "      <th>6</th>\n",
              "      <td>52</td>\n",
              "      <td>9</td>\n",
              "      <td>3</td>\n",
              "    </tr>\n",
              "    <tr>\n",
              "      <th>8</th>\n",
              "      <td>32</td>\n",
              "      <td>38</td>\n",
              "      <td>4</td>\n",
              "    </tr>\n",
              "    <tr>\n",
              "      <th>26</th>\n",
              "      <td>32</td>\n",
              "      <td>10</td>\n",
              "      <td>3</td>\n",
              "    </tr>\n",
              "    <tr>\n",
              "      <th>29</th>\n",
              "      <td>52</td>\n",
              "      <td>20</td>\n",
              "      <td>4</td>\n",
              "    </tr>\n",
              "    <tr>\n",
              "      <th>31</th>\n",
              "      <td>62</td>\n",
              "      <td>27</td>\n",
              "      <td>5</td>\n",
              "    </tr>\n",
              "  </tbody>\n",
              "</table>\n",
              "</div>"
            ],
            "text/plain": [
              "    user_id  product_id  score\n",
              "6        52           9      3\n",
              "8        32          38      4\n",
              "26       32          10      3\n",
              "29       52          20      4\n",
              "31       62          27      5"
            ]
          },
          "execution_count": 39,
          "metadata": {},
          "output_type": "execute_result"
        }
      ],
      "source": [
        "counts = df['user_id'].value_counts()\n",
        "df_final = df[df['user_id'].isin(counts[counts >= 5].index)]\n",
        "df_final.head()"
      ]
    },
    {
      "cell_type": "markdown",
      "metadata": {
        "id": "SUI96TV2fAOg"
      },
      "source": []
    },
    {
      "cell_type": "code",
      "execution_count": 40,
      "metadata": {
        "colab": {
          "base_uri": "https://localhost:8080/"
        },
        "id": "JnG2txPGQ37d",
        "outputId": "1668cffd-69c4-4e34-a85b-bc32e300c876"
      },
      "outputs": [
        {
          "name": "stdout",
          "output_type": "stream",
          "text": [
            "Tổng số hàng =  80\n",
            "Giá trị riêng biệt user_id =  15\n",
            "Giá trị riêng biệt product_id = 75\n"
          ]
        }
      ],
      "source": [
        "print('Tổng số hàng = ', len(df_final))\n",
        "print('Giá trị riêng biệt user_id = ', df_final['user_id'].nunique())\n",
        "print('Giá trị riêng biệt product_id =', df_final['product_id'].nunique())"
      ]
    },
    {
      "cell_type": "code",
      "execution_count": 41,
      "metadata": {
        "colab": {
          "base_uri": "https://localhost:8080/"
        },
        "id": "6Rvdof4jgPMF",
        "outputId": "611ea11a-7d16-4568-c1be-3226e885c122"
      },
      "outputs": [
        {
          "name": "stdout",
          "output_type": "stream",
          "text": [
            "   user_id  product_id  score\n",
            "0       52           9      3\n",
            "1       32          38      4\n",
            "2       32          10      3\n",
            "3       52          20      4\n",
            "4       62          27      5\n"
          ]
        }
      ],
      "source": [
        "df_unique = df_final.drop_duplicates(['user_id', 'product_id'])\n",
        "df_unique.reset_index(drop=True, inplace=True)\n",
        "print(df_unique.head())"
      ]
    },
    {
      "cell_type": "code",
      "execution_count": 42,
      "metadata": {
        "colab": {
          "base_uri": "https://localhost:8080/",
          "height": 493
        },
        "id": "0raLV7t9VV7e",
        "outputId": "124f17f1-2e1d-4db1-a0c2-69c80052d0d9"
      },
      "outputs": [
        {
          "name": "stdout",
          "output_type": "stream",
          "text": [
            "Kích thước ma trận tương tác:  (15, 75)\n",
            "số lượng đánh giá thực tế =  79\n",
            "số lượng đánh giá kỳ vọng =  1125\n",
            "tỉ lệ: 7.02%\n"
          ]
        },
        {
          "data": {
            "text/html": [
              "<div>\n",
              "<style scoped>\n",
              "    .dataframe tbody tr th:only-of-type {\n",
              "        vertical-align: middle;\n",
              "    }\n",
              "\n",
              "    .dataframe tbody tr th {\n",
              "        vertical-align: top;\n",
              "    }\n",
              "\n",
              "    .dataframe thead th {\n",
              "        text-align: right;\n",
              "    }\n",
              "</style>\n",
              "<table border=\"1\" class=\"dataframe\">\n",
              "  <thead>\n",
              "    <tr style=\"text-align: right;\">\n",
              "      <th>product_id</th>\n",
              "      <th>1</th>\n",
              "      <th>2</th>\n",
              "      <th>4</th>\n",
              "      <th>5</th>\n",
              "      <th>9</th>\n",
              "      <th>10</th>\n",
              "      <th>11</th>\n",
              "      <th>13</th>\n",
              "      <th>16</th>\n",
              "      <th>17</th>\n",
              "      <th>...</th>\n",
              "      <th>878</th>\n",
              "      <th>885</th>\n",
              "      <th>890</th>\n",
              "      <th>894</th>\n",
              "      <th>895</th>\n",
              "      <th>908</th>\n",
              "      <th>925</th>\n",
              "      <th>990</th>\n",
              "      <th>1006</th>\n",
              "      <th>1040</th>\n",
              "    </tr>\n",
              "  </thead>\n",
              "  <tbody>\n",
              "    <tr>\n",
              "      <th>count</th>\n",
              "      <td>15.000000</td>\n",
              "      <td>15.000000</td>\n",
              "      <td>15.000000</td>\n",
              "      <td>15.000000</td>\n",
              "      <td>15.000000</td>\n",
              "      <td>15.000000</td>\n",
              "      <td>15.000000</td>\n",
              "      <td>15.000000</td>\n",
              "      <td>15.000000</td>\n",
              "      <td>15.000000</td>\n",
              "      <td>...</td>\n",
              "      <td>15.000000</td>\n",
              "      <td>15.000000</td>\n",
              "      <td>15.000000</td>\n",
              "      <td>15.000000</td>\n",
              "      <td>15.000000</td>\n",
              "      <td>15.000000</td>\n",
              "      <td>15.000000</td>\n",
              "      <td>15.000000</td>\n",
              "      <td>15.000000</td>\n",
              "      <td>15.000000</td>\n",
              "    </tr>\n",
              "    <tr>\n",
              "      <th>mean</th>\n",
              "      <td>0.266667</td>\n",
              "      <td>0.266667</td>\n",
              "      <td>0.266667</td>\n",
              "      <td>0.200000</td>\n",
              "      <td>0.200000</td>\n",
              "      <td>0.200000</td>\n",
              "      <td>0.600000</td>\n",
              "      <td>0.266667</td>\n",
              "      <td>0.200000</td>\n",
              "      <td>0.266667</td>\n",
              "      <td>...</td>\n",
              "      <td>0.333333</td>\n",
              "      <td>0.200000</td>\n",
              "      <td>0.200000</td>\n",
              "      <td>0.266667</td>\n",
              "      <td>0.333333</td>\n",
              "      <td>0.333333</td>\n",
              "      <td>0.333333</td>\n",
              "      <td>0.200000</td>\n",
              "      <td>0.266667</td>\n",
              "      <td>0.333333</td>\n",
              "    </tr>\n",
              "    <tr>\n",
              "      <th>std</th>\n",
              "      <td>1.032796</td>\n",
              "      <td>1.032796</td>\n",
              "      <td>1.032796</td>\n",
              "      <td>0.774597</td>\n",
              "      <td>0.774597</td>\n",
              "      <td>0.774597</td>\n",
              "      <td>1.594634</td>\n",
              "      <td>1.032796</td>\n",
              "      <td>0.774597</td>\n",
              "      <td>1.032796</td>\n",
              "      <td>...</td>\n",
              "      <td>1.290994</td>\n",
              "      <td>0.774597</td>\n",
              "      <td>0.774597</td>\n",
              "      <td>1.032796</td>\n",
              "      <td>1.290994</td>\n",
              "      <td>1.290994</td>\n",
              "      <td>1.290994</td>\n",
              "      <td>0.774597</td>\n",
              "      <td>1.032796</td>\n",
              "      <td>1.290994</td>\n",
              "    </tr>\n",
              "    <tr>\n",
              "      <th>min</th>\n",
              "      <td>0.000000</td>\n",
              "      <td>0.000000</td>\n",
              "      <td>0.000000</td>\n",
              "      <td>0.000000</td>\n",
              "      <td>0.000000</td>\n",
              "      <td>0.000000</td>\n",
              "      <td>0.000000</td>\n",
              "      <td>0.000000</td>\n",
              "      <td>0.000000</td>\n",
              "      <td>0.000000</td>\n",
              "      <td>...</td>\n",
              "      <td>0.000000</td>\n",
              "      <td>0.000000</td>\n",
              "      <td>0.000000</td>\n",
              "      <td>0.000000</td>\n",
              "      <td>0.000000</td>\n",
              "      <td>0.000000</td>\n",
              "      <td>0.000000</td>\n",
              "      <td>0.000000</td>\n",
              "      <td>0.000000</td>\n",
              "      <td>0.000000</td>\n",
              "    </tr>\n",
              "    <tr>\n",
              "      <th>25%</th>\n",
              "      <td>0.000000</td>\n",
              "      <td>0.000000</td>\n",
              "      <td>0.000000</td>\n",
              "      <td>0.000000</td>\n",
              "      <td>0.000000</td>\n",
              "      <td>0.000000</td>\n",
              "      <td>0.000000</td>\n",
              "      <td>0.000000</td>\n",
              "      <td>0.000000</td>\n",
              "      <td>0.000000</td>\n",
              "      <td>...</td>\n",
              "      <td>0.000000</td>\n",
              "      <td>0.000000</td>\n",
              "      <td>0.000000</td>\n",
              "      <td>0.000000</td>\n",
              "      <td>0.000000</td>\n",
              "      <td>0.000000</td>\n",
              "      <td>0.000000</td>\n",
              "      <td>0.000000</td>\n",
              "      <td>0.000000</td>\n",
              "      <td>0.000000</td>\n",
              "    </tr>\n",
              "    <tr>\n",
              "      <th>50%</th>\n",
              "      <td>0.000000</td>\n",
              "      <td>0.000000</td>\n",
              "      <td>0.000000</td>\n",
              "      <td>0.000000</td>\n",
              "      <td>0.000000</td>\n",
              "      <td>0.000000</td>\n",
              "      <td>0.000000</td>\n",
              "      <td>0.000000</td>\n",
              "      <td>0.000000</td>\n",
              "      <td>0.000000</td>\n",
              "      <td>...</td>\n",
              "      <td>0.000000</td>\n",
              "      <td>0.000000</td>\n",
              "      <td>0.000000</td>\n",
              "      <td>0.000000</td>\n",
              "      <td>0.000000</td>\n",
              "      <td>0.000000</td>\n",
              "      <td>0.000000</td>\n",
              "      <td>0.000000</td>\n",
              "      <td>0.000000</td>\n",
              "      <td>0.000000</td>\n",
              "    </tr>\n",
              "    <tr>\n",
              "      <th>75%</th>\n",
              "      <td>0.000000</td>\n",
              "      <td>0.000000</td>\n",
              "      <td>0.000000</td>\n",
              "      <td>0.000000</td>\n",
              "      <td>0.000000</td>\n",
              "      <td>0.000000</td>\n",
              "      <td>0.000000</td>\n",
              "      <td>0.000000</td>\n",
              "      <td>0.000000</td>\n",
              "      <td>0.000000</td>\n",
              "      <td>...</td>\n",
              "      <td>0.000000</td>\n",
              "      <td>0.000000</td>\n",
              "      <td>0.000000</td>\n",
              "      <td>0.000000</td>\n",
              "      <td>0.000000</td>\n",
              "      <td>0.000000</td>\n",
              "      <td>0.000000</td>\n",
              "      <td>0.000000</td>\n",
              "      <td>0.000000</td>\n",
              "      <td>0.000000</td>\n",
              "    </tr>\n",
              "    <tr>\n",
              "      <th>max</th>\n",
              "      <td>4.000000</td>\n",
              "      <td>4.000000</td>\n",
              "      <td>4.000000</td>\n",
              "      <td>3.000000</td>\n",
              "      <td>3.000000</td>\n",
              "      <td>3.000000</td>\n",
              "      <td>5.000000</td>\n",
              "      <td>4.000000</td>\n",
              "      <td>3.000000</td>\n",
              "      <td>4.000000</td>\n",
              "      <td>...</td>\n",
              "      <td>5.000000</td>\n",
              "      <td>3.000000</td>\n",
              "      <td>3.000000</td>\n",
              "      <td>4.000000</td>\n",
              "      <td>5.000000</td>\n",
              "      <td>5.000000</td>\n",
              "      <td>5.000000</td>\n",
              "      <td>3.000000</td>\n",
              "      <td>4.000000</td>\n",
              "      <td>5.000000</td>\n",
              "    </tr>\n",
              "  </tbody>\n",
              "</table>\n",
              "<p>8 rows × 75 columns</p>\n",
              "</div>"
            ],
            "text/plain": [
              "product_id       1          2          4          5          9          10    \\\n",
              "count       15.000000  15.000000  15.000000  15.000000  15.000000  15.000000   \n",
              "mean         0.266667   0.266667   0.266667   0.200000   0.200000   0.200000   \n",
              "std          1.032796   1.032796   1.032796   0.774597   0.774597   0.774597   \n",
              "min          0.000000   0.000000   0.000000   0.000000   0.000000   0.000000   \n",
              "25%          0.000000   0.000000   0.000000   0.000000   0.000000   0.000000   \n",
              "50%          0.000000   0.000000   0.000000   0.000000   0.000000   0.000000   \n",
              "75%          0.000000   0.000000   0.000000   0.000000   0.000000   0.000000   \n",
              "max          4.000000   4.000000   4.000000   3.000000   3.000000   3.000000   \n",
              "\n",
              "product_id       11         13         16         17    ...       878   \\\n",
              "count       15.000000  15.000000  15.000000  15.000000  ...  15.000000   \n",
              "mean         0.600000   0.266667   0.200000   0.266667  ...   0.333333   \n",
              "std          1.594634   1.032796   0.774597   1.032796  ...   1.290994   \n",
              "min          0.000000   0.000000   0.000000   0.000000  ...   0.000000   \n",
              "25%          0.000000   0.000000   0.000000   0.000000  ...   0.000000   \n",
              "50%          0.000000   0.000000   0.000000   0.000000  ...   0.000000   \n",
              "75%          0.000000   0.000000   0.000000   0.000000  ...   0.000000   \n",
              "max          5.000000   4.000000   3.000000   4.000000  ...   5.000000   \n",
              "\n",
              "product_id       885        890        894        895        908        925   \\\n",
              "count       15.000000  15.000000  15.000000  15.000000  15.000000  15.000000   \n",
              "mean         0.200000   0.200000   0.266667   0.333333   0.333333   0.333333   \n",
              "std          0.774597   0.774597   1.032796   1.290994   1.290994   1.290994   \n",
              "min          0.000000   0.000000   0.000000   0.000000   0.000000   0.000000   \n",
              "25%          0.000000   0.000000   0.000000   0.000000   0.000000   0.000000   \n",
              "50%          0.000000   0.000000   0.000000   0.000000   0.000000   0.000000   \n",
              "75%          0.000000   0.000000   0.000000   0.000000   0.000000   0.000000   \n",
              "max          3.000000   3.000000   4.000000   5.000000   5.000000   5.000000   \n",
              "\n",
              "product_id       990        1006       1040  \n",
              "count       15.000000  15.000000  15.000000  \n",
              "mean         0.200000   0.266667   0.333333  \n",
              "std          0.774597   1.032796   1.290994  \n",
              "min          0.000000   0.000000   0.000000  \n",
              "25%          0.000000   0.000000   0.000000  \n",
              "50%          0.000000   0.000000   0.000000  \n",
              "75%          0.000000   0.000000   0.000000  \n",
              "max          3.000000   4.000000   5.000000  \n",
              "\n",
              "[8 rows x 75 columns]"
            ]
          },
          "execution_count": 42,
          "metadata": {},
          "output_type": "execute_result"
        }
      ],
      "source": [
        "final_ratings_matrix = df_unique.pivot(index = 'user_id', columns ='product_id', values = 'score').fillna(0)\n",
        "print('Kích thước ma trận tương tác: ', final_ratings_matrix.shape)\n",
        "\n",
        "given_num_of_ratings = np.count_nonzero(final_ratings_matrix)\n",
        "print('số lượng đánh giá thực tế = ', given_num_of_ratings)\n",
        "\n",
        "possible_num_of_ratings = final_ratings_matrix.shape[0] * final_ratings_matrix.shape[1]\n",
        "print('số lượng đánh giá kỳ vọng = ', possible_num_of_ratings)\n",
        "\n",
        "density = (given_num_of_ratings/(possible_num_of_ratings))\n",
        "density *= 100\n",
        "print ('tỉ lệ: {:4.2f}%'.format(density))\n",
        "\n",
        "final_ratings_matrix.describe()"
      ]
    },
    {
      "cell_type": "code",
      "execution_count": 17,
      "metadata": {},
      "outputs": [
        {
          "data": {
            "image/png": "[encoded data removed]",
            "text/plain": [
              "<Figure size 800x800 with 1 Axes>"
            ]
          },
          "metadata": {},
          "output_type": "display_data"
        }
      ],
      "source": [
        "import matplotlib.pyplot as plt\n",
        "\n",
        "# Tạo dữ liệu cho biểu đồ tròn\n",
        "labels = ['Given Ratings', 'Possible Ratings']\n",
        "sizes = [given_num_of_ratings, possible_num_of_ratings]\n",
        "colors = ['lightblue', 'lightcoral']\n",
        "explode = (0.1, 0)  # Tách một phần ra\n",
        "\n",
        "# Vẽ biểu đồ tròn\n",
        "plt.figure(figsize=(8, 8))\n",
        "plt.pie(sizes, explode=explode, labels=labels, colors=colors, autopct='%1.1f%%', shadow=True, startangle=140)\n",
        "plt.axis('equal')  # Đảm bảo biểu đồ tròn\n",
        "plt.title('Density of Ratings Matrix')\n",
        "plt.show()\n"
      ]
    },
    {
      "cell_type": "code",
      "execution_count": 43,
      "metadata": {
        "colab": {
          "base_uri": "https://localhost:8080/",
          "height": 238
        },
        "id": "Y9nYMkNxgiKg",
        "outputId": "f9955aea-dfcf-43cd-a56b-b494f6a1335c"
      },
      "outputs": [
        {
          "data": {
            "text/html": [
              "<div>\n",
              "<style scoped>\n",
              "    .dataframe tbody tr th:only-of-type {\n",
              "        vertical-align: middle;\n",
              "    }\n",
              "\n",
              "    .dataframe tbody tr th {\n",
              "        vertical-align: top;\n",
              "    }\n",
              "\n",
              "    .dataframe thead th {\n",
              "        text-align: right;\n",
              "    }\n",
              "</style>\n",
              "<table border=\"1\" class=\"dataframe\">\n",
              "  <thead>\n",
              "    <tr style=\"text-align: right;\">\n",
              "      <th></th>\n",
              "      <th>avg_rating</th>\n",
              "      <th>rating_count</th>\n",
              "    </tr>\n",
              "    <tr>\n",
              "      <th>product_id</th>\n",
              "      <th></th>\n",
              "      <th></th>\n",
              "    </tr>\n",
              "  </thead>\n",
              "  <tbody>\n",
              "    <tr>\n",
              "      <th>275</th>\n",
              "      <td>5.0</td>\n",
              "      <td>1</td>\n",
              "    </tr>\n",
              "    <tr>\n",
              "      <th>72</th>\n",
              "      <td>5.0</td>\n",
              "      <td>1</td>\n",
              "    </tr>\n",
              "    <tr>\n",
              "      <th>101</th>\n",
              "      <td>5.0</td>\n",
              "      <td>1</td>\n",
              "    </tr>\n",
              "    <tr>\n",
              "      <th>106</th>\n",
              "      <td>5.0</td>\n",
              "      <td>1</td>\n",
              "    </tr>\n",
              "    <tr>\n",
              "      <th>133</th>\n",
              "      <td>5.0</td>\n",
              "      <td>1</td>\n",
              "    </tr>\n",
              "  </tbody>\n",
              "</table>\n",
              "</div>"
            ],
            "text/plain": [
              "            avg_rating  rating_count\n",
              "product_id                          \n",
              "275                5.0             1\n",
              "72                 5.0             1\n",
              "101                5.0             1\n",
              "106                5.0             1\n",
              "133                5.0             1"
            ]
          },
          "execution_count": 43,
          "metadata": {},
          "output_type": "execute_result"
        }
      ],
      "source": [
        "average_rating = df_unique.groupby('product_id').mean()['score']\n",
        "\n",
        "count_rating = df_unique.groupby('product_id').count()['score']\n",
        "\n",
        "final_rating = pd.DataFrame({'avg_rating':average_rating, 'rating_count':count_rating})\n",
        "\n",
        "final_rating = final_rating.sort_values(by='avg_rating',ascending=False)\n",
        "final_rating.head()"
      ]
    },
    {
      "cell_type": "code",
      "execution_count": 19,
      "metadata": {
        "id": "c9ohUcezVdif"
      },
      "outputs": [],
      "source": [
        "def top_n_products(final_rating, n, min_interaction):\n",
        "\n",
        "    recommendations = final_rating[final_rating['rating_count']>min_interaction]\n",
        "\n",
        "    recommendations = recommendations.sort_values('avg_rating',ascending=False)\n",
        "    return recommendations.index[:n]"
      ]
    },
    {
      "cell_type": "code",
      "execution_count": 44,
      "metadata": {
        "colab": {
          "base_uri": "https://localhost:8080/"
        },
        "id": "giaU-cDQg64y",
        "outputId": "e018839c-5884-4731-a52d-7c081ddcb9c9"
      },
      "outputs": [
        {
          "data": {
            "text/plain": [
              "[182, 25, 11, 219]"
            ]
          },
          "execution_count": 44,
          "metadata": {},
          "output_type": "execute_result"
        }
      ],
      "source": [
        "list(top_n_products(final_rating, 5, 1))"
      ]
    },
    {
      "cell_type": "code",
      "execution_count": 45,
      "metadata": {
        "colab": {
          "base_uri": "https://localhost:8080/",
          "height": 267
        },
        "id": "BBEPiWxKl5vR",
        "outputId": "7f60e5f0-cb5b-426e-ac15-c5cca9c31bd0"
      },
      "outputs": [
        {
          "data": {
            "text/html": [
              "<div>\n",
              "<style scoped>\n",
              "    .dataframe tbody tr th:only-of-type {\n",
              "        vertical-align: middle;\n",
              "    }\n",
              "\n",
              "    .dataframe tbody tr th {\n",
              "        vertical-align: top;\n",
              "    }\n",
              "\n",
              "    .dataframe thead th {\n",
              "        text-align: right;\n",
              "    }\n",
              "</style>\n",
              "<table border=\"1\" class=\"dataframe\">\n",
              "  <thead>\n",
              "    <tr style=\"text-align: right;\">\n",
              "      <th>product_id</th>\n",
              "      <th>1</th>\n",
              "      <th>2</th>\n",
              "      <th>4</th>\n",
              "      <th>5</th>\n",
              "      <th>9</th>\n",
              "      <th>10</th>\n",
              "      <th>11</th>\n",
              "      <th>13</th>\n",
              "      <th>16</th>\n",
              "      <th>17</th>\n",
              "      <th>...</th>\n",
              "      <th>878</th>\n",
              "      <th>885</th>\n",
              "      <th>890</th>\n",
              "      <th>894</th>\n",
              "      <th>895</th>\n",
              "      <th>908</th>\n",
              "      <th>925</th>\n",
              "      <th>990</th>\n",
              "      <th>1006</th>\n",
              "      <th>1040</th>\n",
              "    </tr>\n",
              "    <tr>\n",
              "      <th>user_index</th>\n",
              "      <th></th>\n",
              "      <th></th>\n",
              "      <th></th>\n",
              "      <th></th>\n",
              "      <th></th>\n",
              "      <th></th>\n",
              "      <th></th>\n",
              "      <th></th>\n",
              "      <th></th>\n",
              "      <th></th>\n",
              "      <th></th>\n",
              "      <th></th>\n",
              "      <th></th>\n",
              "      <th></th>\n",
              "      <th></th>\n",
              "      <th></th>\n",
              "      <th></th>\n",
              "      <th></th>\n",
              "      <th></th>\n",
              "      <th></th>\n",
              "      <th></th>\n",
              "    </tr>\n",
              "  </thead>\n",
              "  <tbody>\n",
              "    <tr>\n",
              "      <th>1</th>\n",
              "      <td>4.0</td>\n",
              "      <td>0.0</td>\n",
              "      <td>4.0</td>\n",
              "      <td>0.0</td>\n",
              "      <td>0.0</td>\n",
              "      <td>0.0</td>\n",
              "      <td>0.0</td>\n",
              "      <td>0.0</td>\n",
              "      <td>0.0</td>\n",
              "      <td>0.0</td>\n",
              "      <td>...</td>\n",
              "      <td>0.0</td>\n",
              "      <td>0.0</td>\n",
              "      <td>0.0</td>\n",
              "      <td>0.0</td>\n",
              "      <td>0.0</td>\n",
              "      <td>0.0</td>\n",
              "      <td>0.0</td>\n",
              "      <td>0.0</td>\n",
              "      <td>0.0</td>\n",
              "      <td>0.0</td>\n",
              "    </tr>\n",
              "    <tr>\n",
              "      <th>2</th>\n",
              "      <td>0.0</td>\n",
              "      <td>0.0</td>\n",
              "      <td>0.0</td>\n",
              "      <td>0.0</td>\n",
              "      <td>0.0</td>\n",
              "      <td>3.0</td>\n",
              "      <td>0.0</td>\n",
              "      <td>0.0</td>\n",
              "      <td>0.0</td>\n",
              "      <td>0.0</td>\n",
              "      <td>...</td>\n",
              "      <td>0.0</td>\n",
              "      <td>0.0</td>\n",
              "      <td>0.0</td>\n",
              "      <td>0.0</td>\n",
              "      <td>0.0</td>\n",
              "      <td>0.0</td>\n",
              "      <td>0.0</td>\n",
              "      <td>0.0</td>\n",
              "      <td>0.0</td>\n",
              "      <td>0.0</td>\n",
              "    </tr>\n",
              "    <tr>\n",
              "      <th>3</th>\n",
              "      <td>0.0</td>\n",
              "      <td>0.0</td>\n",
              "      <td>0.0</td>\n",
              "      <td>0.0</td>\n",
              "      <td>3.0</td>\n",
              "      <td>0.0</td>\n",
              "      <td>4.0</td>\n",
              "      <td>0.0</td>\n",
              "      <td>3.0</td>\n",
              "      <td>4.0</td>\n",
              "      <td>...</td>\n",
              "      <td>0.0</td>\n",
              "      <td>0.0</td>\n",
              "      <td>0.0</td>\n",
              "      <td>0.0</td>\n",
              "      <td>0.0</td>\n",
              "      <td>0.0</td>\n",
              "      <td>0.0</td>\n",
              "      <td>0.0</td>\n",
              "      <td>0.0</td>\n",
              "      <td>0.0</td>\n",
              "    </tr>\n",
              "    <tr>\n",
              "      <th>4</th>\n",
              "      <td>0.0</td>\n",
              "      <td>4.0</td>\n",
              "      <td>0.0</td>\n",
              "      <td>0.0</td>\n",
              "      <td>0.0</td>\n",
              "      <td>0.0</td>\n",
              "      <td>5.0</td>\n",
              "      <td>4.0</td>\n",
              "      <td>0.0</td>\n",
              "      <td>0.0</td>\n",
              "      <td>...</td>\n",
              "      <td>0.0</td>\n",
              "      <td>0.0</td>\n",
              "      <td>0.0</td>\n",
              "      <td>0.0</td>\n",
              "      <td>0.0</td>\n",
              "      <td>0.0</td>\n",
              "      <td>0.0</td>\n",
              "      <td>0.0</td>\n",
              "      <td>0.0</td>\n",
              "      <td>0.0</td>\n",
              "    </tr>\n",
              "    <tr>\n",
              "      <th>5</th>\n",
              "      <td>0.0</td>\n",
              "      <td>0.0</td>\n",
              "      <td>0.0</td>\n",
              "      <td>3.0</td>\n",
              "      <td>0.0</td>\n",
              "      <td>0.0</td>\n",
              "      <td>0.0</td>\n",
              "      <td>0.0</td>\n",
              "      <td>0.0</td>\n",
              "      <td>0.0</td>\n",
              "      <td>...</td>\n",
              "      <td>0.0</td>\n",
              "      <td>0.0</td>\n",
              "      <td>0.0</td>\n",
              "      <td>0.0</td>\n",
              "      <td>0.0</td>\n",
              "      <td>0.0</td>\n",
              "      <td>0.0</td>\n",
              "      <td>0.0</td>\n",
              "      <td>0.0</td>\n",
              "      <td>0.0</td>\n",
              "    </tr>\n",
              "  </tbody>\n",
              "</table>\n",
              "<p>5 rows × 75 columns</p>\n",
              "</div>"
            ],
            "text/plain": [
              "product_id  1     2     4     5     9     10    11    13    16    17    ...  \\\n",
              "user_index                                                              ...   \n",
              "1            4.0   0.0   4.0   0.0   0.0   0.0   0.0   0.0   0.0   0.0  ...   \n",
              "2            0.0   0.0   0.0   0.0   0.0   3.0   0.0   0.0   0.0   0.0  ...   \n",
              "3            0.0   0.0   0.0   0.0   3.0   0.0   4.0   0.0   3.0   4.0  ...   \n",
              "4            0.0   4.0   0.0   0.0   0.0   0.0   5.0   4.0   0.0   0.0  ...   \n",
              "5            0.0   0.0   0.0   3.0   0.0   0.0   0.0   0.0   0.0   0.0  ...   \n",
              "\n",
              "product_id  878   885   890   894   895   908   925   990   1006  1040  \n",
              "user_index                                                              \n",
              "1            0.0   0.0   0.0   0.0   0.0   0.0   0.0   0.0   0.0   0.0  \n",
              "2            0.0   0.0   0.0   0.0   0.0   0.0   0.0   0.0   0.0   0.0  \n",
              "3            0.0   0.0   0.0   0.0   0.0   0.0   0.0   0.0   0.0   0.0  \n",
              "4            0.0   0.0   0.0   0.0   0.0   0.0   0.0   0.0   0.0   0.0  \n",
              "5            0.0   0.0   0.0   0.0   0.0   0.0   0.0   0.0   0.0   0.0  \n",
              "\n",
              "[5 rows x 75 columns]"
            ]
          },
          "execution_count": 45,
          "metadata": {},
          "output_type": "execute_result"
        }
      ],
      "source": [
        "final_ratings_matrix['user_index'] = np.arange(1, final_ratings_matrix.shape[0] + 1)  \n",
        "final_ratings_matrix.set_index(['user_index'], inplace=True)\n",
        "final_ratings_matrix.head()\n"
      ]
    },
    {
      "cell_type": "code",
      "execution_count": 46,
      "metadata": {
        "id": "bii5h_sYmBA3"
      },
      "outputs": [],
      "source": [
        "from sklearn.metrics.pairwise import cosine_similarity\n",
        "import numpy as np\n",
        "\n",
        "def similar_users(user_index, interactions_matrix, num_iterations=10):\n",
        "    similarity = []\n",
        "    for user in range(1, interactions_matrix.shape[0]):\n",
        "\n",
        "        similarity_score = []\n",
        "        for _ in range(num_iterations):\n",
        "            sim = cosine_similarity([interactions_matrix.loc[user_index]], [interactions_matrix.loc[user]])\n",
        "            similarity_score.append(sim)\n",
        "\n",
        "        avg_similarity_score = np.mean(similarity_score)\n",
        "\n",
        "        similarity.append((user, avg_similarity_score))\n",
        "\n",
        "    similarity.sort(key=lambda x: x[1], reverse=True)\n",
        "    most_similar_users = [tup[0] for tup in similarity]\n",
        "    similarity_score = [tup[1] for tup in similarity]\n",
        "\n",
        "    return most_similar_users[1:], similarity_score[1:] \n",
        "\n"
      ]
    },
    {
      "cell_type": "code",
      "execution_count": 48,
      "metadata": {
        "colab": {
          "base_uri": "https://localhost:8080/"
        },
        "id": "x-qqPfRwmbAK",
        "outputId": "72120353-fb6a-4f87-fc4a-6f20eef1a71f"
      },
      "outputs": [
        {
          "ename": "KeyError",
          "evalue": "43",
          "output_type": "error",
          "traceback": [
            "\u001b[1;31m---------------------------------------------------------------------------\u001b[0m",
            "\u001b[1;31mKeyError\u001b[0m                                  Traceback (most recent call last)",
            "File \u001b[1;32mc:\\Users\\LENOVO\\AppData\\Local\\Programs\\Python\\Python311\\lib\\site-packages\\pandas\\core\\indexes\\base.py:3653\u001b[0m, in \u001b[0;36mIndex.get_loc\u001b[1;34m(self, key)\u001b[0m\n\u001b[0;32m   3652\u001b[0m \u001b[38;5;28;01mtry\u001b[39;00m:\n\u001b[1;32m-> 3653\u001b[0m     \u001b[38;5;28;01mreturn\u001b[39;00m \u001b[38;5;28;43mself\u001b[39;49m\u001b[38;5;241;43m.\u001b[39;49m\u001b[43m_engine\u001b[49m\u001b[38;5;241;43m.\u001b[39;49m\u001b[43mget_loc\u001b[49m\u001b[43m(\u001b[49m\u001b[43mcasted_key\u001b[49m\u001b[43m)\u001b[49m\n\u001b[0;32m   3654\u001b[0m \u001b[38;5;28;01mexcept\u001b[39;00m \u001b[38;5;167;01mKeyError\u001b[39;00m \u001b[38;5;28;01mas\u001b[39;00m err:\n",
            "File \u001b[1;32mc:\\Users\\LENOVO\\AppData\\Local\\Programs\\Python\\Python311\\lib\\site-packages\\pandas\\_libs\\index.pyx:147\u001b[0m, in \u001b[0;36mpandas._libs.index.IndexEngine.get_loc\u001b[1;34m()\u001b[0m\n",
            "File \u001b[1;32mc:\\Users\\LENOVO\\AppData\\Local\\Programs\\Python\\Python311\\lib\\site-packages\\pandas\\_libs\\index.pyx:176\u001b[0m, in \u001b[0;36mpandas._libs.index.IndexEngine.get_loc\u001b[1;34m()\u001b[0m\n",
            "File \u001b[1;32mpandas\\_libs\\hashtable_class_helper.pxi:4484\u001b[0m, in \u001b[0;36mpandas._libs.hashtable.Int32HashTable.get_item\u001b[1;34m()\u001b[0m\n",
            "File \u001b[1;32mpandas\\_libs\\hashtable_class_helper.pxi:4508\u001b[0m, in \u001b[0;36mpandas._libs.hashtable.Int32HashTable.get_item\u001b[1;34m()\u001b[0m\n",
            "\u001b[1;31mKeyError\u001b[0m: 43",
            "\nThe above exception was the direct cause of the following exception:\n",
            "\u001b[1;31mKeyError\u001b[0m                                  Traceback (most recent call last)",
            "Cell \u001b[1;32mIn[48], line 1\u001b[0m\n\u001b[1;32m----> 1\u001b[0m similar \u001b[38;5;241m=\u001b[39m \u001b[43msimilar_users\u001b[49m\u001b[43m(\u001b[49m\u001b[38;5;241;43m43\u001b[39;49m\u001b[43m,\u001b[49m\u001b[43m \u001b[49m\u001b[43mfinal_ratings_matrix\u001b[49m\u001b[43m)\u001b[49m[\u001b[38;5;241m0\u001b[39m][\u001b[38;5;241m0\u001b[39m:\u001b[38;5;241m10\u001b[39m]\n\u001b[0;32m      2\u001b[0m similar\n",
            "Cell \u001b[1;32mIn[46], line 10\u001b[0m, in \u001b[0;36msimilar_users\u001b[1;34m(user_index, interactions_matrix, num_iterations)\u001b[0m\n\u001b[0;32m      8\u001b[0m similarity_score \u001b[38;5;241m=\u001b[39m []\n\u001b[0;32m      9\u001b[0m \u001b[38;5;28;01mfor\u001b[39;00m _ \u001b[38;5;129;01min\u001b[39;00m \u001b[38;5;28mrange\u001b[39m(num_iterations):\n\u001b[1;32m---> 10\u001b[0m     sim \u001b[38;5;241m=\u001b[39m cosine_similarity([\u001b[43minteractions_matrix\u001b[49m\u001b[38;5;241;43m.\u001b[39;49m\u001b[43mloc\u001b[49m\u001b[43m[\u001b[49m\u001b[43muser_index\u001b[49m\u001b[43m]\u001b[49m], [interactions_matrix\u001b[38;5;241m.\u001b[39mloc[user]])\n\u001b[0;32m     11\u001b[0m     similarity_score\u001b[38;5;241m.\u001b[39mappend(sim)\n\u001b[0;32m     13\u001b[0m avg_similarity_score \u001b[38;5;241m=\u001b[39m np\u001b[38;5;241m.\u001b[39mmean(similarity_score)\n",
            "File \u001b[1;32mc:\\Users\\LENOVO\\AppData\\Local\\Programs\\Python\\Python311\\lib\\site-packages\\pandas\\core\\indexing.py:1103\u001b[0m, in \u001b[0;36m_LocationIndexer.__getitem__\u001b[1;34m(self, key)\u001b[0m\n\u001b[0;32m   1100\u001b[0m axis \u001b[38;5;241m=\u001b[39m \u001b[38;5;28mself\u001b[39m\u001b[38;5;241m.\u001b[39maxis \u001b[38;5;129;01mor\u001b[39;00m \u001b[38;5;241m0\u001b[39m\n\u001b[0;32m   1102\u001b[0m maybe_callable \u001b[38;5;241m=\u001b[39m com\u001b[38;5;241m.\u001b[39mapply_if_callable(key, \u001b[38;5;28mself\u001b[39m\u001b[38;5;241m.\u001b[39mobj)\n\u001b[1;32m-> 1103\u001b[0m \u001b[38;5;28;01mreturn\u001b[39;00m \u001b[38;5;28;43mself\u001b[39;49m\u001b[38;5;241;43m.\u001b[39;49m\u001b[43m_getitem_axis\u001b[49m\u001b[43m(\u001b[49m\u001b[43mmaybe_callable\u001b[49m\u001b[43m,\u001b[49m\u001b[43m \u001b[49m\u001b[43maxis\u001b[49m\u001b[38;5;241;43m=\u001b[39;49m\u001b[43maxis\u001b[49m\u001b[43m)\u001b[49m\n",
            "File \u001b[1;32mc:\\Users\\LENOVO\\AppData\\Local\\Programs\\Python\\Python311\\lib\\site-packages\\pandas\\core\\indexing.py:1343\u001b[0m, in \u001b[0;36m_LocIndexer._getitem_axis\u001b[1;34m(self, key, axis)\u001b[0m\n\u001b[0;32m   1341\u001b[0m \u001b[38;5;66;03m# fall thru to straight lookup\u001b[39;00m\n\u001b[0;32m   1342\u001b[0m \u001b[38;5;28mself\u001b[39m\u001b[38;5;241m.\u001b[39m_validate_key(key, axis)\n\u001b[1;32m-> 1343\u001b[0m \u001b[38;5;28;01mreturn\u001b[39;00m \u001b[38;5;28;43mself\u001b[39;49m\u001b[38;5;241;43m.\u001b[39;49m\u001b[43m_get_label\u001b[49m\u001b[43m(\u001b[49m\u001b[43mkey\u001b[49m\u001b[43m,\u001b[49m\u001b[43m \u001b[49m\u001b[43maxis\u001b[49m\u001b[38;5;241;43m=\u001b[39;49m\u001b[43maxis\u001b[49m\u001b[43m)\u001b[49m\n",
            "File \u001b[1;32mc:\\Users\\LENOVO\\AppData\\Local\\Programs\\Python\\Python311\\lib\\site-packages\\pandas\\core\\indexing.py:1293\u001b[0m, in \u001b[0;36m_LocIndexer._get_label\u001b[1;34m(self, label, axis)\u001b[0m\n\u001b[0;32m   1291\u001b[0m \u001b[38;5;28;01mdef\u001b[39;00m \u001b[38;5;21m_get_label\u001b[39m(\u001b[38;5;28mself\u001b[39m, label, axis: AxisInt):\n\u001b[0;32m   1292\u001b[0m     \u001b[38;5;66;03m# GH#5567 this will fail if the label is not present in the axis.\u001b[39;00m\n\u001b[1;32m-> 1293\u001b[0m     \u001b[38;5;28;01mreturn\u001b[39;00m \u001b[38;5;28;43mself\u001b[39;49m\u001b[38;5;241;43m.\u001b[39;49m\u001b[43mobj\u001b[49m\u001b[38;5;241;43m.\u001b[39;49m\u001b[43mxs\u001b[49m\u001b[43m(\u001b[49m\u001b[43mlabel\u001b[49m\u001b[43m,\u001b[49m\u001b[43m \u001b[49m\u001b[43maxis\u001b[49m\u001b[38;5;241;43m=\u001b[39;49m\u001b[43maxis\u001b[49m\u001b[43m)\u001b[49m\n",
            "File \u001b[1;32mc:\\Users\\LENOVO\\AppData\\Local\\Programs\\Python\\Python311\\lib\\site-packages\\pandas\\core\\generic.py:4095\u001b[0m, in \u001b[0;36mNDFrame.xs\u001b[1;34m(self, key, axis, level, drop_level)\u001b[0m\n\u001b[0;32m   4093\u001b[0m             new_index \u001b[38;5;241m=\u001b[39m index[loc]\n\u001b[0;32m   4094\u001b[0m \u001b[38;5;28;01melse\u001b[39;00m:\n\u001b[1;32m-> 4095\u001b[0m     loc \u001b[38;5;241m=\u001b[39m \u001b[43mindex\u001b[49m\u001b[38;5;241;43m.\u001b[39;49m\u001b[43mget_loc\u001b[49m\u001b[43m(\u001b[49m\u001b[43mkey\u001b[49m\u001b[43m)\u001b[49m\n\u001b[0;32m   4097\u001b[0m     \u001b[38;5;28;01mif\u001b[39;00m \u001b[38;5;28misinstance\u001b[39m(loc, np\u001b[38;5;241m.\u001b[39mndarray):\n\u001b[0;32m   4098\u001b[0m         \u001b[38;5;28;01mif\u001b[39;00m loc\u001b[38;5;241m.\u001b[39mdtype \u001b[38;5;241m==\u001b[39m np\u001b[38;5;241m.\u001b[39mbool_:\n",
            "File \u001b[1;32mc:\\Users\\LENOVO\\AppData\\Local\\Programs\\Python\\Python311\\lib\\site-packages\\pandas\\core\\indexes\\base.py:3655\u001b[0m, in \u001b[0;36mIndex.get_loc\u001b[1;34m(self, key)\u001b[0m\n\u001b[0;32m   3653\u001b[0m     \u001b[38;5;28;01mreturn\u001b[39;00m \u001b[38;5;28mself\u001b[39m\u001b[38;5;241m.\u001b[39m_engine\u001b[38;5;241m.\u001b[39mget_loc(casted_key)\n\u001b[0;32m   3654\u001b[0m \u001b[38;5;28;01mexcept\u001b[39;00m \u001b[38;5;167;01mKeyError\u001b[39;00m \u001b[38;5;28;01mas\u001b[39;00m err:\n\u001b[1;32m-> 3655\u001b[0m     \u001b[38;5;28;01mraise\u001b[39;00m \u001b[38;5;167;01mKeyError\u001b[39;00m(key) \u001b[38;5;28;01mfrom\u001b[39;00m \u001b[38;5;21;01merr\u001b[39;00m\n\u001b[0;32m   3656\u001b[0m \u001b[38;5;28;01mexcept\u001b[39;00m \u001b[38;5;167;01mTypeError\u001b[39;00m:\n\u001b[0;32m   3657\u001b[0m     \u001b[38;5;66;03m# If we have a listlike key, _check_indexing_error will raise\u001b[39;00m\n\u001b[0;32m   3658\u001b[0m     \u001b[38;5;66;03m#  InvalidIndexError. Otherwise we fall through and re-raise\u001b[39;00m\n\u001b[0;32m   3659\u001b[0m     \u001b[38;5;66;03m#  the TypeError.\u001b[39;00m\n\u001b[0;32m   3660\u001b[0m     \u001b[38;5;28mself\u001b[39m\u001b[38;5;241m.\u001b[39m_check_indexing_error(key)\n",
            "\u001b[1;31mKeyError\u001b[0m: 43"
          ]
        }
      ],
      "source": [
        "similar = similar_users(43, final_ratings_matrix)[0][0:10]\n",
        "similar"
      ]
    },
    {
      "cell_type": "code",
      "execution_count": 24,
      "metadata": {},
      "outputs": [
        {
          "ename": "AttributeError",
          "evalue": "'numpy.ndarray' object has no attribute 'loc'",
          "output_type": "error",
          "traceback": [
            "\u001b[1;31m---------------------------------------------------------------------------\u001b[0m",
            "\u001b[1;31mAttributeError\u001b[0m                            Traceback (most recent call last)",
            "Cell \u001b[1;32mIn[24], line 18\u001b[0m\n\u001b[0;32m     15\u001b[0m \u001b[38;5;28;01mfor\u001b[39;00m item_index \u001b[38;5;129;01min\u001b[39;00m \u001b[38;5;28mrange\u001b[39m(matrix\u001b[38;5;241m.\u001b[39mshape[\u001b[38;5;241m1\u001b[39m]):\n\u001b[0;32m     16\u001b[0m     \u001b[38;5;28;01mif\u001b[39;00m np\u001b[38;5;241m.\u001b[39misnan(matrix[\u001b[38;5;241m-\u001b[39m\u001b[38;5;241m1\u001b[39m, item_index]):  \u001b[38;5;66;03m# Nếu sản phẩm chưa được đánh giá bởi người dùng cuối cùng\u001b[39;00m\n\u001b[0;32m     17\u001b[0m         \u001b[38;5;66;03m# Lọc ra các người dùng tương tự nhất và điểm số tương ứng\u001b[39;00m\n\u001b[1;32m---> 18\u001b[0m         similar_users, similarity_scores \u001b[38;5;241m=\u001b[39m \u001b[43msimilar_users\u001b[49m\u001b[43m(\u001b[49m\u001b[43mmatrix\u001b[49m\u001b[38;5;241;43m.\u001b[39;49m\u001b[43mshape\u001b[49m\u001b[43m[\u001b[49m\u001b[38;5;241;43m0\u001b[39;49m\u001b[43m]\u001b[49m\u001b[43m \u001b[49m\u001b[38;5;241;43m-\u001b[39;49m\u001b[43m \u001b[49m\u001b[38;5;241;43m1\u001b[39;49m\u001b[43m,\u001b[49m\u001b[43m \u001b[49m\u001b[43mmatrix\u001b[49m\u001b[43m)\u001b[49m\n\u001b[0;32m     20\u001b[0m         \u001b[38;5;66;03m# Tính toán điểm số dự đoán bằng trung bình có trọng số của các điểm số đã biết\u001b[39;00m\n\u001b[0;32m     21\u001b[0m         weighted_sum \u001b[38;5;241m=\u001b[39m \u001b[38;5;241m0\u001b[39m\n",
            "Cell \u001b[1;32mIn[22], line 10\u001b[0m, in \u001b[0;36msimilar_users\u001b[1;34m(user_index, interactions_matrix, num_iterations)\u001b[0m\n\u001b[0;32m      8\u001b[0m similarity_score \u001b[38;5;241m=\u001b[39m []\n\u001b[0;32m      9\u001b[0m \u001b[38;5;28;01mfor\u001b[39;00m _ \u001b[38;5;129;01min\u001b[39;00m \u001b[38;5;28mrange\u001b[39m(num_iterations):\n\u001b[1;32m---> 10\u001b[0m     sim \u001b[38;5;241m=\u001b[39m cosine_similarity([\u001b[43minteractions_matrix\u001b[49m\u001b[38;5;241;43m.\u001b[39;49m\u001b[43mloc\u001b[49m[user_index]], [interactions_matrix\u001b[38;5;241m.\u001b[39mloc[user]])\n\u001b[0;32m     11\u001b[0m     similarity_score\u001b[38;5;241m.\u001b[39mappend(sim)\n\u001b[0;32m     13\u001b[0m avg_similarity_score \u001b[38;5;241m=\u001b[39m np\u001b[38;5;241m.\u001b[39mmean(similarity_score)\n",
            "\u001b[1;31mAttributeError\u001b[0m: 'numpy.ndarray' object has no attribute 'loc'"
          ]
        }
      ],
      "source": [
        "import numpy as np\n",
        "\n",
        "# Đưa ma trận vào dưới dạng numpy array\n",
        "matrix = np.array([\n",
        "    [4, 0, 0, 0, 0, 0],\n",
        "    [4, 5, 0, 5, 0, 0],\n",
        "    [0, 5, 0, 4, 0, 3],\n",
        "    [5, 4, np.nan, np.nan, np.nan, np.nan]  # Giá trị '?' được thay thế bằng np.nan\n",
        "])\n",
        "\n",
        "# Tính điểm số dự đoán cho người dùng cuối cùng\n",
        "predicted_ratings = []\n",
        "\n",
        "# Lặp qua mỗi sản phẩm trong ma trận\n",
        "for item_index in range(matrix.shape[1]):\n",
        "    if np.isnan(matrix[-1, item_index]):  # Nếu sản phẩm chưa được đánh giá bởi người dùng cuối cùng\n",
        "        # Lọc ra các người dùng tương tự nhất và điểm số tương ứng\n",
        "        similar_users, similarity_scores = similar_users(matrix.shape[0] - 1, matrix)\n",
        "        \n",
        "        # Tính toán điểm số dự đoán bằng trung bình có trọng số của các điểm số đã biết\n",
        "        weighted_sum = 0\n",
        "        total_similarity = 0\n",
        "        for user, similarity in zip(similar_users, similarity_scores):\n",
        "            if not np.isnan(matrix[user - 1, item_index]):  # Nếu người dùng tương tự đã đánh giá sản phẩm này\n",
        "                weighted_sum += matrix[user - 1, item_index] * similarity\n",
        "                total_similarity += similarity\n",
        "        \n",
        "        if total_similarity != 0:\n",
        "            predicted_rating = weighted_sum / total_similarity\n",
        "        else:\n",
        "            predicted_rating = 0  # Trong trường hợp không có người dùng tương tự nào đã đánh giá sản phẩm\n",
        "        \n",
        "        predicted_ratings.append(predicted_rating)\n",
        "\n",
        "print(\"Dự đoán điểm số cho người dùng cuối cùng:\")\n",
        "for item_index, rating in enumerate(predicted_ratings):\n",
        "    print(f\"Item {item_index + 1}: {rating:.2f}\")"
      ]
    },
    {
      "cell_type": "code",
      "execution_count": 111,
      "metadata": {
        "id": "7l2glsnpmg7A"
      },
      "outputs": [],
      "source": [
        "def recommendations(user_index, num_of_products, interactions_matrix):\n",
        "\n",
        "    most_similar_users = similar_users(user_index, interactions_matrix)[0]\n",
        "    prod_ids = set(list(interactions_matrix.columns[np.where(interactions_matrix.loc[user_index] > 0)]))\n",
        "    recommendations = []\n",
        "\n",
        "    observed_interactions = prod_ids.copy()\n",
        "    for similar_user in most_similar_users:\n",
        "        if len(recommendations) < num_of_products:\n",
        "\n",
        "            #Finding 'n' products which have been rated by similar users but not by the user_id\n",
        "            similar_user_prod_ids = set(list(interactions_matrix.columns[np.where(interactions_matrix.loc[similar_user] > 0)]))\n",
        "            recommendations.extend(list(similar_user_prod_ids.difference(observed_interactions)))\n",
        "            observed_interactions = observed_interactions.union(similar_user_prod_ids)\n",
        "        else:\n",
        "            break\n",
        "\n",
        "    return recommendations[:num_of_products]\n"
      ]
    },
    {
      "cell_type": "code",
      "execution_count": 112,
      "metadata": {},
      "outputs": [
        {
          "data": {
            "text/plain": [
              "[427,\n",
              " 11,\n",
              " 53,\n",
              " 41,\n",
              " 3,\n",
              " 7,\n",
              " 23,\n",
              " 21,\n",
              " 17,\n",
              " 87,\n",
              " 13,\n",
              " 4,\n",
              " 72,\n",
              " 9,\n",
              " 20,\n",
              " 10,\n",
              " 35,\n",
              " 36,\n",
              " 24,\n",
              " 59,\n",
              " 92,\n",
              " 22,\n",
              " 8,\n",
              " 42,\n",
              " 14,\n",
              " 5,\n",
              " 83,\n",
              " 68,\n",
              " 15,\n",
              " 32,\n",
              " 25,\n",
              " 97,\n",
              " 30,\n",
              " 73,\n",
              " 1,\n",
              " 106,\n",
              " 95,\n",
              " 51,\n",
              " 39,\n",
              " 70,\n",
              " 94,\n",
              " 44,\n",
              " 38,\n",
              " 84,\n",
              " 43,\n",
              " 105,\n",
              " 52,\n",
              " 61,\n",
              " 88,\n",
              " 33]"
            ]
          },
          "execution_count": 112,
          "metadata": {},
          "output_type": "execute_result"
        }
      ],
      "source": [
        "recommendations(105, 50, final_ratings_matrix)"
      ]
    }
  ],
  "metadata": {
    "colab": {
      "provenance": []
    },
    "kernelspec": {
      "display_name": "Python 3",
      "name": "python3"
    },
    "language_info": {
      "codemirror_mode": {
        "name": "ipython",
        "version": 3
      },
      "file_extension": ".py",
      "mimetype": "text/x-python",
      "name": "python",
      "nbconvert_exporter": "python",
      "pygments_lexer": "ipython3",
      "version": "3.8.0"
    }
  },
  "nbformat": 4,
  "nbformat_minor": 0
}
